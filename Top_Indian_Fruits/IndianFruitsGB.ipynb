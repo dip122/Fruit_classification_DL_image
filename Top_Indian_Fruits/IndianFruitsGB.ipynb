{
 "cells": [
  {
   "cell_type": "code",
   "execution_count": 1,
   "metadata": {},
   "outputs": [
    {
     "name": "stdout",
     "output_type": "stream",
     "text": [
      "abc\n"
     ]
    }
   ],
   "source": [
    "import numpy as np;\n",
    "print(\"abc\")\n"
   ]
  },
  {
   "cell_type": "code",
   "execution_count": 2,
   "metadata": {},
   "outputs": [
    {
     "name": "stdout",
     "output_type": "stream",
     "text": [
      "WARNING:tensorflow:From c:\\Users\\rouna\\anaconda3\\Lib\\site-packages\\keras\\src\\losses.py:2976: The name tf.losses.sparse_softmax_cross_entropy is deprecated. Please use tf.compat.v1.losses.sparse_softmax_cross_entropy instead.\n",
      "\n"
     ]
    }
   ],
   "source": [
    "# import keras \n",
    "# import os\n",
    "# import glob \n",
    "# import cv2\n",
    "# from keras.preprocessing.image import ImageDataGenerator,array_to_img,img_to_array,load_img\n",
    "# import matplotlib.pyplot as plt\n",
    "\n",
    "# target_size = (224,224)\n",
    "# fruits = [\"Apple_Bad\", \"Apple_Good\", \"Banana_Bad\", \"Banana_Good\", \"Guava_Bad\", \"Guava_Good\", \"Lime_Bad\", \n",
    "#           \"Lime_Good\", \"Orange_Bad\", \"Orange_Good\", \"Pomegranate_Bad\", \"Pomegranate_Good\"]\n",
    "\n",
    "\n",
    "# for fruit in fruits:\n",
    "#     img_dir = f'C:\\\\Users\\\\rouna\\\\OneDrive\\\\Desktop\\\\ML\\\\citrus\\\\Top Indian Fruits Dataset_Clean Images\\\\Top Indian Fruits Dataset_Clean Images\\\\FruitDataSet of 256x256 Size_12000 Images\\\\{fruit}'\n",
    "#     data_path = os.path.join(img_dir, '*g')  # global path of the img_dir.....\n",
    "#     files = glob.glob(data_path)  # all the files inside the data path is here...\n",
    "    \n",
    "#     save_dir = f'C:\\\\Users\\\\rouna\\\\OneDrive\\\\Desktop\\\\ML\\\\citrus\\\\Top Indian Fruits Dataset_Clean Images\\\\India\\\\{fruit}'\n",
    "#     if not os.path.exists(save_dir):\n",
    "#         os.makedirs(save_dir)\n",
    "\n",
    "#     datagen = ImageDataGenerator(\n",
    "#         rotation_range=40,\n",
    "#         width_shift_range=0.2,\n",
    "#         height_shift_range=0.2,\n",
    "#         shear_range=0.2,\n",
    "#         zoom_range=0.2,\n",
    "#         horizontal_flip=True,\n",
    "#         fill_mode='nearest'\n",
    "#     )\n",
    "\n",
    "#     for f1 in files:\n",
    "#         img = load_img(f1, target_size=target_size)\n",
    "#         x = img_to_array(img)\n",
    "#         x = x.reshape((1,) + x.shape)\n",
    "\n",
    "#         i = 0\n",
    "#         path, dir, files = next(os.walk(img_dir))\n",
    "#         file_counts = len(files)\n",
    "#         for batch in datagen.flow(x, batch_size=1, save_to_dir=save_dir, save_prefix='a',\n",
    "#                                   save_format='jpg'):\n",
    "#             i += 1\n",
    "#             if i == 5:  # from each image 10 images will be generated in a new file\n",
    "#                 break"
   ]
  },
  {
   "cell_type": "code",
   "execution_count": 1,
   "metadata": {},
   "outputs": [
    {
     "name": "stdout",
     "output_type": "stream",
     "text": [
      "WARNING:tensorflow:From c:\\Users\\DELL\\anaconda3\\lib\\site-packages\\keras\\src\\losses.py:2976: The name tf.losses.sparse_softmax_cross_entropy is deprecated. Please use tf.compat.v1.losses.sparse_softmax_cross_entropy instead.\n",
      "\n"
     ]
    }
   ],
   "source": [
    "import os\n",
    "import shutil\n",
    "import random\n",
    "import numpy as np\n",
    "from sklearn.model_selection import train_test_split\n",
    "import tensorflow as tf\n",
    "from tensorflow.keras.preprocessing.image import ImageDataGenerator\n",
    "from tensorflow.keras.models import Sequential\n",
    "from tensorflow.keras.layers import Conv2D, MaxPooling2D, Flatten, Dense, Dropout"
   ]
  },
  {
   "cell_type": "code",
   "execution_count": 2,
   "metadata": {},
   "outputs": [],
   "source": [
    "dir_path = \"C:\\\\Users\\\\DELL\\\\Downloads\\\\Top Indian Fruits Dataset_Clean Images\\\\FruitDataSet of 256x256 Size_12000 Images\"\n",
    "# Define the classes\n",
    "\n",
    "classes = [\"Apple_Bad\", \"Apple_Good\", \"Banana_Bad\", \"Banana_Good\", \"Guava_Bad\", \"Guava_Good\", \"Lime_Bad\", \n",
    "          \"Lime_Good\", \"Orange_Bad\", \"Orange_Good\", \"Pomegranate_Bad\", \"Pomegranate_Good\"]\n",
    "# Define the training and testing directories\n",
    "\n",
    "train_dir = \"C:\\\\Users\\\\DELL\\\\Downloads\\\\Top Indian Fruits Dataset_Clean Images\\\\FruitDataSet of 256x256 Size_12000 Images\\\\train_dir\"\n",
    "test_dir = \"C:\\\\Users\\\\DELL\\\\Downloads\\\\Top Indian Fruits Dataset_Clean Images\\\\FruitDataSet of 256x256 Size_12000 Images\\\\test_dir\"\n",
    "# Create the training and testing directories\n",
    "\n",
    "if not os.path.exists(train_dir):\n",
    "    os.makedirs(train_dir)\n",
    "\n",
    "if not os.path.exists(test_dir):\n",
    "    os.makedirs(test_dir)\n",
    "\n",
    "for class_name in classes:\n",
    "    class_dir = os.path.join(dir_path, class_name)\n",
    "    image_files = [os.path.join(class_dir, f) for f in os.listdir(class_dir) if f.endswith(\".jpg\") or f.endswith(\".png\")]\n",
    "    train_files, test_files = train_test_split(image_files, test_size=0.1, random_state=42)\n",
    "    # Copy the training files to the training directory\n",
    "    for file_path in train_files:\n",
    "        file_name = os.path.basename(file_path)\n",
    "        new_file_path = os.path.join(train_dir, class_name, file_name)\n",
    "        if not os.path.exists(os.path.join(train_dir, class_name)):\n",
    "            os.makedirs(os.path.join(train_dir, class_name))\n",
    "        shutil.copy(file_path, new_file_path)\n",
    "    # Copy the testing files to the testing directory\n",
    "    for file_path in test_files:\n",
    "        file_name = os.path.basename(file_path)\n",
    "        new_file_path = os.path.join(test_dir, class_name, file_name)\n",
    "        if not os.path.exists(os.path.join(test_dir, class_name)):\n",
    "            os.makedirs(os.path.join(test_dir, class_name))\n",
    "        shutil.copy(file_path, new_file_path)"
   ]
  },
  {
   "cell_type": "code",
   "execution_count": 3,
   "metadata": {},
   "outputs": [],
   "source": [
    "import numpy as np\n",
    "import matplotlib.pyplot as plt\n",
    "from sklearn.datasets import load_files\n",
    "#from keras.utils import np_utils\n",
    "from sklearn.model_selection import train_test_split\n",
    "from keras.preprocessing.image import array_to_img, img_to_array, load_img\n",
    "from keras.models import Sequential\n",
    "from keras.layers import Conv2D,MaxPooling2D\n",
    "from keras.layers import Activation, Dense, Flatten, Dropout\n",
    "from keras.preprocessing.image import ImageDataGenerator\n",
    "from keras.callbacks import ModelCheckpoint\n",
    "from keras import backend as K"
   ]
  },
  {
   "cell_type": "code",
   "execution_count": 4,
   "metadata": {},
   "outputs": [],
   "source": [
    "def get_data(path):\n",
    "    data = load_files(path)\n",
    "    files = np.array(data['filenames'])\n",
    "    targets = np.array(data['target'])\n",
    "    target_labels = np.array(data['target_names'])\n",
    "    return files,targets,target_labels\n",
    "\n",
    "X_train, Y_train, labels = get_data(train_dir)\n",
    "X_test, Y_test,_ = get_data(test_dir)"
   ]
  },
  {
   "cell_type": "code",
   "execution_count": 5,
   "metadata": {},
   "outputs": [],
   "source": [
    "from keras.utils import to_categorical"
   ]
  },
  {
   "cell_type": "code",
   "execution_count": 6,
   "metadata": {},
   "outputs": [],
   "source": [
    "Y_train = to_categorical(Y_train, 12)\n",
    "Y_test = to_categorical(Y_test, 12)"
   ]
  },
  {
   "cell_type": "code",
   "execution_count": 7,
   "metadata": {},
   "outputs": [],
   "source": [
    "X_train, X_val = train_test_split(X_train, test_size=0.2, random_state=33)\n",
    "Y_train, Y_val = train_test_split(Y_train, test_size=0.2, random_state=33)"
   ]
  },
  {
   "cell_type": "code",
   "execution_count": 8,
   "metadata": {},
   "outputs": [
    {
     "name": "stdout",
     "output_type": "stream",
     "text": [
      "(8640,)\n",
      "(1200,)\n",
      "(2160,)\n"
     ]
    }
   ],
   "source": [
    "import keras \n",
    "import os\n",
    "import glob \n",
    "import cv2\n",
    "from keras.preprocessing.image import ImageDataGenerator,array_to_img,img_to_array,load_img\n",
    "import matplotlib.pyplot as plt\n",
    "\n",
    "def convert_image_to_array(files, target_size):\n",
    "    images_as_array = []\n",
    "    for file in files:\n",
    "        img = load_img(file, target_size=target_size)  # Load and resize the image\n",
    "        img_array = img_to_array(img)\n",
    "        images_as_array.append(img_array)\n",
    "    return images_as_array\n",
    "\n",
    "# Define the target size for resizing\n",
    "\n",
    "print(X_train.shape)\n",
    "print(X_test.shape)\n",
    "print(X_val.shape)\n",
    "\n",
    "\n",
    "\n",
    "\n",
    "\n",
    "\n",
    "\n",
    "\n",
    "\n",
    "\n",
    "target_size = (224, 224)\n",
    "\n",
    "# Convert images to arrays\n",
    "X_train = np.array(convert_image_to_array(X_train, target_size))\n",
    "X_val = np.array(convert_image_to_array(X_val, target_size))\n",
    "X_test = np.array(convert_image_to_array(X_test, target_size))\n",
    "\n",
    "\n",
    "\n",
    "X_train = X_train.astype('float32')/255\n",
    "X_val = X_val.astype('float32')/255\n",
    "X_test = X_test.astype('float32')/255\n"
   ]
  },
  {
   "cell_type": "code",
   "execution_count": 9,
   "metadata": {},
   "outputs": [
    {
     "name": "stdout",
     "output_type": "stream",
     "text": [
      "WARNING:tensorflow:From c:\\Users\\DELL\\anaconda3\\lib\\site-packages\\keras\\src\\backend.py:1398: The name tf.executing_eagerly_outside_functions is deprecated. Please use tf.compat.v1.executing_eagerly_outside_functions instead.\n",
      "\n",
      "WARNING:tensorflow:From c:\\Users\\DELL\\anaconda3\\lib\\site-packages\\keras\\src\\layers\\pooling\\max_pooling2d.py:161: The name tf.nn.max_pool is deprecated. Please use tf.nn.max_pool2d instead.\n",
      "\n",
      "Model: \"model\"\n",
      "__________________________________________________________________________________________________\n",
      " Layer (type)                Output Shape                 Param #   Connected to                  \n",
      "==================================================================================================\n",
      " input_1 (InputLayer)        [(None, 224, 224, 3)]        0         []                            \n",
      "                                                                                                  \n",
      " conv2d (Conv2D)             (None, 224, 224, 16)         208       ['input_1[0][0]']             \n",
      "                                                                                                  \n",
      " activation (Activation)     (None, 224, 224, 16)         0         ['conv2d[0][0]']              \n",
      "                                                                                                  \n",
      " max_pooling2d (MaxPooling2  (None, 112, 112, 16)         0         ['activation[0][0]']          \n",
      " D)                                                                                               \n",
      "                                                                                                  \n",
      " conv2d_1 (Conv2D)           (None, 112, 112, 32)         2080      ['max_pooling2d[0][0]']       \n",
      "                                                                                                  \n",
      " max_pooling2d_1 (MaxPoolin  (None, 56, 56, 32)           0         ['conv2d_1[0][0]']            \n",
      " g2D)                                                                                             \n",
      "                                                                                                  \n",
      " conv2d_2 (Conv2D)           (None, 56, 56, 64)           8256      ['max_pooling2d_1[0][0]']     \n",
      "                                                                                                  \n",
      " max_pooling2d_2 (MaxPoolin  (None, 28, 28, 64)           0         ['conv2d_2[0][0]']            \n",
      " g2D)                                                                                             \n",
      "                                                                                                  \n",
      " conv2d_3 (Conv2D)           (None, 28, 28, 128)          32896     ['max_pooling2d_2[0][0]']     \n",
      "                                                                                                  \n",
      " max_pooling2d_3 (MaxPoolin  (None, 14, 14, 128)          0         ['conv2d_3[0][0]']            \n",
      " g2D)                                                                                             \n",
      "                                                                                                  \n",
      " attention (Attention)       (None, 14, 14, 128)          0         ['max_pooling2d_3[0][0]',     \n",
      "                                                                     'max_pooling2d_3[0][0]']     \n",
      "                                                                                                  \n",
      " dropout (Dropout)           (None, 14, 14, 128)          0         ['attention[0][0]']           \n",
      "                                                                                                  \n",
      " flatten (Flatten)           (None, 25088)                0         ['dropout[0][0]']             \n",
      "                                                                                                  \n",
      " dense (Dense)               (None, 150)                  3763350   ['flatten[0][0]']             \n",
      "                                                                                                  \n",
      " dropout_1 (Dropout)         (None, 150)                  0         ['dense[0][0]']               \n",
      "                                                                                                  \n",
      " dense_1 (Dense)             (None, 12)                   1812      ['dropout_1[0][0]']           \n",
      "                                                                                                  \n",
      "==================================================================================================\n",
      "Total params: 3808602 (14.53 MB)\n",
      "Trainable params: 3808602 (14.53 MB)\n",
      "Non-trainable params: 0 (0.00 Byte)\n",
      "__________________________________________________________________________________________________\n"
     ]
    }
   ],
   "source": [
    "from tensorflow.keras.models import Sequential, Model\n",
    "from tensorflow.keras.layers import Conv2D, Activation, MaxPooling2D, Dropout, Flatten, Dense, Attention, Input\n",
    "\n",
    "# Define the CNN model with attention\n",
    "input_layer = Input(shape=(224, 224, 3))\n",
    "\n",
    "# Convolutional layers\n",
    "x = Conv2D(filters=16, kernel_size=2, padding='same')(input_layer)\n",
    "x = Activation('relu')(x)\n",
    "x = MaxPooling2D(pool_size=2)(x)\n",
    "\n",
    "x = Conv2D(filters=32, kernel_size=2, activation='relu', padding='same')(x)\n",
    "x = MaxPooling2D(pool_size=2)(x)\n",
    "\n",
    "x = Conv2D(filters=64, kernel_size=2, activation='relu', padding='same')(x)\n",
    "x = MaxPooling2D(pool_size=2)(x)\n",
    "\n",
    "x = Conv2D(filters=128, kernel_size=2, activation='relu', padding='same')(x)\n",
    "x = MaxPooling2D(pool_size=2)(x)\n",
    "\n",
    "# Applying attention after the last convolutional layer\n",
    "attention = Attention()([x, x])\n",
    "\n",
    "# Fully connected layers\n",
    "x = Dropout(0.3)(attention)\n",
    "x = Flatten()(x)\n",
    "x = Dense(150, activation='relu')(x)\n",
    "x = Dropout(0.4)(x)\n",
    "output_layer = Dense(12, activation='softmax')(x)\n",
    "\n",
    "# Creating the model with attention\n",
    "model_with_attention = Model(inputs=input_layer, outputs=output_layer)\n",
    "\n",
    "# Displaying the summary of the model\n",
    "model_with_attention.summary()"
   ]
  },
  {
   "cell_type": "code",
   "execution_count": 10,
   "metadata": {},
   "outputs": [],
   "source": [
    "from keras.optimizers import SGD, Adam, RMSprop\n",
    "\n",
    "optimizer = Adam()\n",
    "model_with_attention.compile(loss='categorical_crossentropy',\n",
    "              optimizer=optimizer,\n",
    "              metrics=['accuracy'])"
   ]
  },
  {
   "cell_type": "code",
   "execution_count": 11,
   "metadata": {},
   "outputs": [
    {
     "name": "stdout",
     "output_type": "stream",
     "text": [
      "Epoch 1/20\n",
      "WARNING:tensorflow:From c:\\Users\\DELL\\anaconda3\\lib\\site-packages\\keras\\src\\utils\\tf_utils.py:492: The name tf.ragged.RaggedTensorValue is deprecated. Please use tf.compat.v1.ragged.RaggedTensorValue instead.\n",
      "\n",
      "WARNING:tensorflow:From c:\\Users\\DELL\\anaconda3\\lib\\site-packages\\keras\\src\\engine\\base_layer_utils.py:384: The name tf.executing_eagerly_outside_functions is deprecated. Please use tf.compat.v1.executing_eagerly_outside_functions instead.\n",
      "\n",
      "68/68 - 129s - loss: 1.9952 - accuracy: 0.2943 - val_loss: 1.1524 - val_accuracy: 0.6556 - 129s/epoch - 2s/step\n",
      "Epoch 2/20\n",
      "68/68 - 108s - loss: 0.9973 - accuracy: 0.6663 - val_loss: 0.5406 - val_accuracy: 0.8454 - 108s/epoch - 2s/step\n",
      "Epoch 3/20\n",
      "68/68 - 87s - loss: 0.6609 - accuracy: 0.7834 - val_loss: 0.3283 - val_accuracy: 0.9000 - 87s/epoch - 1s/step\n",
      "Epoch 4/20\n",
      "68/68 - 88s - loss: 0.4693 - accuracy: 0.8507 - val_loss: 0.2335 - val_accuracy: 0.9264 - 88s/epoch - 1s/step\n",
      "Epoch 5/20\n",
      "68/68 - 88s - loss: 0.3753 - accuracy: 0.8762 - val_loss: 0.1974 - val_accuracy: 0.9370 - 88s/epoch - 1s/step\n",
      "Epoch 6/20\n",
      "68/68 - 85s - loss: 0.3235 - accuracy: 0.8902 - val_loss: 0.1824 - val_accuracy: 0.9472 - 85s/epoch - 1s/step\n",
      "Epoch 7/20\n",
      "68/68 - 86s - loss: 0.2724 - accuracy: 0.9066 - val_loss: 0.1408 - val_accuracy: 0.9532 - 86s/epoch - 1s/step\n",
      "Epoch 8/20\n",
      "68/68 - 82s - loss: 0.2455 - accuracy: 0.9204 - val_loss: 0.1257 - val_accuracy: 0.9574 - 82s/epoch - 1s/step\n",
      "Epoch 9/20\n",
      "68/68 - 83s - loss: 0.2215 - accuracy: 0.9242 - val_loss: 0.1181 - val_accuracy: 0.9644 - 83s/epoch - 1s/step\n",
      "Epoch 10/20\n",
      "68/68 - 84s - loss: 0.2259 - accuracy: 0.9252 - val_loss: 0.1102 - val_accuracy: 0.9657 - 84s/epoch - 1s/step\n",
      "Epoch 11/20\n",
      "68/68 - 94s - loss: 0.1818 - accuracy: 0.9366 - val_loss: 0.1022 - val_accuracy: 0.9657 - 94s/epoch - 1s/step\n",
      "Epoch 12/20\n",
      "68/68 - 92s - loss: 0.1697 - accuracy: 0.9402 - val_loss: 0.0901 - val_accuracy: 0.9699 - 92s/epoch - 1s/step\n",
      "Epoch 13/20\n",
      "68/68 - 85s - loss: 0.1464 - accuracy: 0.9477 - val_loss: 0.0712 - val_accuracy: 0.9755 - 85s/epoch - 1s/step\n",
      "Epoch 14/20\n",
      "68/68 - 81s - loss: 0.1395 - accuracy: 0.9501 - val_loss: 0.0646 - val_accuracy: 0.9838 - 81s/epoch - 1s/step\n",
      "Epoch 15/20\n",
      "68/68 - 84s - loss: 0.1271 - accuracy: 0.9553 - val_loss: 0.0808 - val_accuracy: 0.9741 - 84s/epoch - 1s/step\n",
      "Epoch 16/20\n",
      "68/68 - 80s - loss: 0.1313 - accuracy: 0.9531 - val_loss: 0.0741 - val_accuracy: 0.9764 - 80s/epoch - 1s/step\n",
      "Epoch 17/20\n",
      "68/68 - 80s - loss: 0.1266 - accuracy: 0.9547 - val_loss: 0.0781 - val_accuracy: 0.9773 - 80s/epoch - 1s/step\n",
      "Epoch 18/20\n",
      "68/68 - 81s - loss: 0.1274 - accuracy: 0.9560 - val_loss: 0.0761 - val_accuracy: 0.9782 - 81s/epoch - 1s/step\n",
      "Epoch 19/20\n",
      "68/68 - 80s - loss: 0.1186 - accuracy: 0.9593 - val_loss: 0.0546 - val_accuracy: 0.9829 - 80s/epoch - 1s/step\n",
      "Epoch 20/20\n",
      "68/68 - 80s - loss: 0.1084 - accuracy: 0.9606 - val_loss: 0.0728 - val_accuracy: 0.9829 - 80s/epoch - 1s/step\n"
     ]
    }
   ],
   "source": [
    "\n",
    "\n",
    "# fitting model using above defined layers \n",
    "history = model_with_attention.fit(X_train,Y_train,\n",
    "        batch_size = 128,\n",
    "        epochs=20,\n",
    "        validation_data=(X_val, Y_val),\n",
    "        verbose=2, shuffle=True)"
   ]
  },
  {
   "cell_type": "code",
   "execution_count": 12,
   "metadata": {},
   "outputs": [
    {
     "name": "stdout",
     "output_type": "stream",
     "text": [
      "38/38 [==============================] - 10s 83ms/step - loss: 0.0572 - accuracy: 0.9800\n",
      "Test accuracy: 0.9800000190734863\n"
     ]
    }
   ],
   "source": [
    "score = model_with_attention.evaluate(X_test, Y_test)\n",
    "print('Test accuracy:', score[1])"
   ]
  },
  {
   "cell_type": "code",
   "execution_count": 13,
   "metadata": {},
   "outputs": [
    {
     "data": {
      "image/png": "[encoded data removed]",
      "text/plain": [
       "<Figure size 640x480 with 1 Axes>"
      ]
     },
     "metadata": {},
     "output_type": "display_data"
    },
    {
     "data": {
      "image/png": "[encoded data removed]",
      "text/plain": [
       "<Figure size 640x480 with 1 Axes>"
      ]
     },
     "metadata": {},
     "output_type": "display_data"
    }
   ],
   "source": [
    "import matplotlib.pyplot as plt\n",
    "plt.plot(history.history['accuracy'],color = 'red',label = 'training_acc')\n",
    "plt.plot(history.history['val_accuracy'],color = 'blue',label = 'test_acc')\n",
    "plt.ylabel('accuracy')\n",
    "plt.xlabel('epochs')\n",
    "plt.legend()\n",
    "plt.show()\n",
    "\n",
    "\n",
    "\n",
    "\n",
    "plt.plot(history.history['loss'],color = 'red',label = 'training_loss')\n",
    "plt.plot(history.history['val_loss'],color = 'blue',label = 'test_loss')\n",
    "plt.ylabel('loss')\n",
    "plt.xlabel('epochs')\n",
    "plt.legend()\n",
    "plt.show()\n"
   ]
  },
  {
   "cell_type": "code",
   "execution_count": 14,
   "metadata": {},
   "outputs": [
    {
     "name": "stdout",
     "output_type": "stream",
     "text": [
      "38/38 [==============================] - 4s 90ms/step\n",
      "Confusion Matrix:\n",
      "[[ 99   0   0   0   0   0   1   0   0   0   0   0]\n",
      " [  2  86   0   0   0   2   1   0   0   4   1   4]\n",
      " [  0   0 100   0   0   0   0   0   0   0   0   0]\n",
      " [  0   0   0 100   0   0   0   0   0   0   0   0]\n",
      " [  1   0   0   0  97   0   0   0   2   0   0   0]\n",
      " [  0   1   0   0   0  99   0   0   0   0   0   0]\n",
      " [  0   0   0   0   0   0  98   0   2   0   0   0]\n",
      " [  0   0   0   0   0   0   0 100   0   0   0   0]\n",
      " [  0   0   0   0   0   0   0   0  98   2   0   0]\n",
      " [  0   0   0   0   0   0   0   0   0 100   0   0]\n",
      " [  1   0   0   0   0   0   0   0   0   0  99   0]\n",
      " [  0   0   0   0   0   0   0   0   0   0   0 100]]\n",
      "\n",
      "Classification Report:\n",
      "              precision    recall  f1-score   support\n",
      "\n",
      "           0       0.96      0.99      0.98       100\n",
      "           1       0.99      0.86      0.92       100\n",
      "           2       1.00      1.00      1.00       100\n",
      "           3       1.00      1.00      1.00       100\n",
      "           4       1.00      0.97      0.98       100\n",
      "           5       0.98      0.99      0.99       100\n",
      "           6       0.98      0.98      0.98       100\n",
      "           7       1.00      1.00      1.00       100\n",
      "           8       0.96      0.98      0.97       100\n",
      "           9       0.94      1.00      0.97       100\n",
      "          10       0.99      0.99      0.99       100\n",
      "          11       0.96      1.00      0.98       100\n",
      "\n",
      "    accuracy                           0.98      1200\n",
      "   macro avg       0.98      0.98      0.98      1200\n",
      "weighted avg       0.98      0.98      0.98      1200\n",
      "\n"
     ]
    }
   ],
   "source": [
    "from sklearn.metrics import classification_report, confusion_matrix\n",
    "\n",
    "# Predictions on test set\n",
    "Y_pred = model_with_attention.predict(X_test)\n",
    "# Convert predictions to one-hot encoded labels\n",
    "Y_pred_labels = np.argmax(Y_pred, axis=1)\n",
    "Y_true_labels = np.argmax(Y_test, axis=1)\n",
    "\n",
    "# Confusion Matrix\n",
    "conf_matrix = confusion_matrix(Y_true_labels, Y_pred_labels)\n",
    "\n",
    "# Classification Report\n",
    "class_report = classification_report(Y_true_labels, Y_pred_labels)\n",
    "\n",
    "print(\"Confusion Matrix:\")\n",
    "print(conf_matrix)\n",
    "\n",
    "print(\"\\nClassification Report:\")\n",
    "print(class_report)\n"
   ]
  },
  {
   "cell_type": "code",
   "execution_count": 15,
   "metadata": {},
   "outputs": [
    {
     "name": "stdout",
     "output_type": "stream",
     "text": [
      "38/38 [==============================] - 3s 85ms/step\n"
     ]
    },
    {
     "data": {
      "image/png": "[encoded data removed]",
      "text/plain": [
       "<Figure size 1000x800 with 2 Axes>"
      ]
     },
     "metadata": {},
     "output_type": "display_data"
    },
    {
     "name": "stdout",
     "output_type": "stream",
     "text": [
      "38/38 [==============================] - 3s 81ms/step - loss: 0.0572 - accuracy: 0.9800\n",
      "Test accuracy is 0.9800000190734863 and test loss is 0.057158634066581726\n"
     ]
    }
   ],
   "source": [
    "from sklearn.metrics import confusion_matrix, classification_report\n",
    "import seaborn as sns\n",
    "\n",
    "\n",
    "y_pred = model_with_attention.predict(X_test)\n",
    "y_pred_classes = np.argmax(y_pred, axis=1)\n",
    "\n",
    "confusion_mtx = confusion_matrix(np.argmax(Y_test, axis=1), y_pred_classes)\n",
    "\n",
    "plt.figure(figsize=(10, 8))\n",
    "sns.heatmap(confusion_mtx, annot=True, fmt='d')\n",
    "plt.xlabel('Predicted')\n",
    "plt.ylabel('True')\n",
    "plt.show()\n",
    "\n",
    "test_loss, test_acc = model_with_attention.evaluate(X_test, Y_test)\n",
    "print(f\"Test accuracy is {test_acc} and test loss is {test_loss}\")"
   ]
  },
  {
   "cell_type": "code",
   "execution_count": null,
   "metadata": {},
   "outputs": [],
   "source": []
  }
 ],
 "metadata": {
  "kernelspec": {
   "display_name": "base",
   "language": "python",
   "name": "python3"
  },
  "language_info": {
   "codemirror_mode": {
    "name": "ipython",
    "version": 3
   },
   "file_extension": ".py",
   "mimetype": "text/x-python",
   "name": "python",
   "nbconvert_exporter": "python",
   "pygments_lexer": "ipython3",
   "version": "3.9.13"
  }
 },
 "nbformat": 4,
 "nbformat_minor": 2
}
