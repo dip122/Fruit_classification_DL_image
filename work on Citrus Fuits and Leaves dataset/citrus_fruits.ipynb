{
 "cells": [
  {
   "cell_type": "code",
   "execution_count": 89,
   "metadata": {},
   "outputs": [],
   "source": [
    "import matplotlib.pyplot as plt\n",
    "from matplotlib import gridspec\n",
    "\n",
    "import numpy as np\n",
    "import tensorflow as tf\n",
    "from tensorflow.keras.preprocessing import image_dataset_from_directory\n",
    "from tensorflow.keras.layers.experimental.preprocessing import Rescaling\n"
   ]
  },
  {
   "cell_type": "code",
   "execution_count": 90,
   "metadata": {},
   "outputs": [],
   "source": [
    "import os\n",
    "import shutil\n",
    "import random\n",
    "import numpy as np\n",
    "from sklearn.model_selection import train_test_split\n",
    "import tensorflow as tf\n",
    "from tensorflow.keras.preprocessing.image import ImageDataGenerator\n",
    "from tensorflow.keras.models import Sequential\n",
    "from tensorflow.keras.layers import Conv2D, MaxPooling2D, Flatten, Dense, Dropout"
   ]
  },
  {
   "cell_type": "code",
   "execution_count": 47,
   "metadata": {},
   "outputs": [],
   "source": [
    "import keras \n",
    "import os\n",
    "import glob \n",
    "import cv2\n",
    "from keras.preprocessing.image import ImageDataGenerator,array_to_img,img_to_array,load_img\n",
    "import matplotlib.pyplot as plt\n",
    "\n",
    "target_size = (224,224)\n",
    "\n",
    "img_dir = 'C:\\\\Users\\\\DELL\\\\Downloads\\\\Citrus\\\\Fruits\\\\Canker'\n",
    "data_path = os.path.join(img_dir,'*g') #global path of the img_dir.....\n",
    "files = glob.glob(data_path) # all the files inside the data path is here...\n",
    "\n",
    "datagen = ImageDataGenerator(\n",
    "    rotation_range = 40,\n",
    "    width_shift_range= 0.2,\n",
    "    height_shift_range = 0.2,\n",
    "    shear_range= 0.2,\n",
    "    zoom_range = 0.2,\n",
    "    horizontal_flip= True,\n",
    "    fill_mode = 'nearest'\n",
    ")\n",
    "\n",
    "for f1 in files:\n",
    "    img = load_img(f1,target_size = target_size)\n",
    "    x = img_to_array(img)\n",
    "    x = x.reshape((1,) + x.shape)\n",
    "    \n",
    "    i = 0\n",
    "    path,dir,files = next(os.walk(img_dir))\n",
    "    file_counts = len(files)\n",
    "    for batch in datagen.flow(x,batch_size= 1 , save_to_dir = r'C:\\\\SpCitrus\\\\Fruits\\\\Canker', save_prefix = 'a' , save_format='jpg'):\n",
    "        i+=1\n",
    "        if i == 10 : # from each image 10 image will be generated in a new file\n",
    "            break    "
   ]
  },
  {
   "cell_type": "code",
   "execution_count": 91,
   "metadata": {},
   "outputs": [],
   "source": [
    "\n",
    "dir_path = \"C:\\\\Citrus\\\\Fruits\"\n",
    "# Define the classes\n",
    "\n",
    "classes = [\"Black Spot\", \"Canker\", \"Greening\", \"healthy\", \"Scab\"]\n",
    "# Define the training and testing directories\n",
    "\n",
    "train_dir = \"C:\\\\SpCitrus\\\\Fruits\\\\train_dir\"\n",
    "test_dir = \"C:\\\\SpCitrus\\\\Fruits\\\\test_dir\"\n",
    "# Create the training and testing directories\n",
    "\n",
    "if not os.path.exists(train_dir):\n",
    "    os.makedirs(train_dir)\n",
    "\n",
    "if not os.path.exists(test_dir):\n",
    "    os.makedirs(test_dir)\n",
    "\n",
    "for class_name in classes:\n",
    "    class_dir = os.path.join(dir_path, class_name)\n",
    "    image_files = [os.path.join(class_dir, f) for f in os.listdir(class_dir) if f.endswith(\".jpg\") or f.endswith(\".png\")]\n",
    "    train_files, test_files = train_test_split(image_files, test_size=0.1, random_state=42)\n",
    "    # Copy the training files to the training directory\n",
    "    for file_path in train_files:\n",
    "        file_name = os.path.basename(file_path)\n",
    "        new_file_path = os.path.join(train_dir, class_name, file_name)\n",
    "        if not os.path.exists(os.path.join(train_dir, class_name)):\n",
    "            os.makedirs(os.path.join(train_dir, class_name))\n",
    "        shutil.copy(file_path, new_file_path)\n",
    "    # Copy the testing files to the testing directory\n",
    "    for file_path in test_files:\n",
    "        file_name = os.path.basename(file_path)\n",
    "        new_file_path = os.path.join(test_dir, class_name, file_name)\n",
    "        if not os.path.exists(os.path.join(test_dir, class_name)):\n",
    "            os.makedirs(os.path.join(test_dir, class_name))\n",
    "        shutil.copy(file_path, new_file_path)"
   ]
  },
  {
   "cell_type": "code",
   "execution_count": null,
   "metadata": {},
   "outputs": [],
   "source": []
  },
  {
   "cell_type": "code",
   "execution_count": 92,
   "metadata": {},
   "outputs": [],
   "source": [
    "from tensorflow import keras"
   ]
  },
  {
   "cell_type": "code",
   "execution_count": 105,
   "metadata": {},
   "outputs": [],
   "source": [
    "train_data='C:\\\\Citrus\\\\Fruits\\\\train_dir'\n",
    "test_data='C:\\\\Citrus\\\\Fruits\\\\test_dir'"
   ]
  },
  {
   "cell_type": "code",
   "execution_count": null,
   "metadata": {},
   "outputs": [],
   "source": []
  },
  {
   "cell_type": "code",
   "execution_count": 106,
   "metadata": {},
   "outputs": [],
   "source": [
    "def get_data(path):\n",
    "    data = load_files(path)\n",
    "    files = np.array(data['filenames'])\n",
    "    targets = np.array(data['target'])\n",
    "    target_labels = np.array(data['target_names'])\n",
    "    return files,targets,target_labels\n",
    "\n",
    "X_train, Y_train, labels = get_data(train_data)\n",
    "X_test, Y_test,_ = get_data(test_data)"
   ]
  },
  {
   "cell_type": "code",
   "execution_count": 107,
   "metadata": {},
   "outputs": [],
   "source": [
    "from keras.utils import to_categorical"
   ]
  },
  {
   "cell_type": "code",
   "execution_count": 108,
   "metadata": {},
   "outputs": [],
   "source": [
    "Y_train = to_categorical(Y_train, 5)\n",
    "Y_test = to_categorical(Y_test, 5)"
   ]
  },
  {
   "cell_type": "code",
   "execution_count": 109,
   "metadata": {},
   "outputs": [],
   "source": [
    "X_test, X_val = train_test_split(X_test, test_size=0.4, random_state=42)\n",
    "Y_test, Y_val = train_test_split(Y_test, test_size=0.4, random_state=42)"
   ]
  },
  {
   "cell_type": "code",
   "execution_count": 110,
   "metadata": {},
   "outputs": [
    {
     "name": "stdout",
     "output_type": "stream",
     "text": [
      "(1174,)\n",
      "(177,)\n",
      "(118,)\n"
     ]
    }
   ],
   "source": [
    "import keras \n",
    "import os\n",
    "import glob \n",
    "import cv2\n",
    "from keras.preprocessing.image import ImageDataGenerator,array_to_img,img_to_array,load_img\n",
    "import matplotlib.pyplot as plt\n",
    "\n",
    "def convert_image_to_array(files, target_size):\n",
    "    images_as_array = []\n",
    "    for file in files:\n",
    "        img = load_img(file, target_size=target_size)  # Load and resize the image\n",
    "        img_array = img_to_array(img)\n",
    "        images_as_array.append(img_array)\n",
    "    return images_as_array\n",
    "\n",
    "# Define the target size for resizing\n",
    "\n",
    "print(X_train.shape)\n",
    "print(X_test.shape)\n",
    "print(X_val.shape)"
   ]
  },
  {
   "cell_type": "code",
   "execution_count": 111,
   "metadata": {},
   "outputs": [],
   "source": [
    "target_size = (224, 224)\n",
    "\n",
    "# Convert images to arrays\n",
    "X_train = np.array(convert_image_to_array(X_train, target_size))\n",
    "X_val = np.array(convert_image_to_array(X_val, target_size))\n",
    "X_test = np.array(convert_image_to_array(X_test, target_size))\n"
   ]
  },
  {
   "cell_type": "code",
   "execution_count": 112,
   "metadata": {},
   "outputs": [],
   "source": [
    "X_train = X_train.astype('float32')/255\n",
    "X_val = X_val.astype('float32')/255\n",
    "X_test = X_test.astype('float32')/255"
   ]
  },
  {
   "cell_type": "code",
   "execution_count": 113,
   "metadata": {},
   "outputs": [
    {
     "name": "stdout",
     "output_type": "stream",
     "text": [
      "Model: \"model_4\"\n",
      "_________________________________________________________________\n",
      " Layer (type)                Output Shape              Param #   \n",
      "=================================================================\n",
      " conv2d_16_input (InputLaye  [(None, 224, 224, 3)]     0         \n",
      " r)                                                              \n",
      "                                                                 \n",
      " conv2d_16 (Conv2D)          (None, 224, 224, 16)      208       \n",
      "                                                                 \n",
      " activation_8 (Activation)   (None, 224, 224, 16)      0         \n",
      "                                                                 \n",
      " max_pooling2d_16 (MaxPooli  (None, 112, 112, 16)      0         \n",
      " ng2D)                                                           \n",
      "                                                                 \n",
      " conv2d_17 (Conv2D)          (None, 112, 112, 32)      2080      \n",
      "                                                                 \n",
      " max_pooling2d_17 (MaxPooli  (None, 56, 56, 32)        0         \n",
      " ng2D)                                                           \n",
      "                                                                 \n",
      " conv2d_18 (Conv2D)          (None, 56, 56, 64)        8256      \n",
      "                                                                 \n",
      " max_pooling2d_18 (MaxPooli  (None, 28, 28, 64)        0         \n",
      " ng2D)                                                           \n",
      "                                                                 \n",
      " conv2d_19 (Conv2D)          (None, 28, 28, 128)       32896     \n",
      "                                                                 \n",
      " max_pooling2d_19 (MaxPooli  (None, 14, 14, 128)       0         \n",
      " ng2D)                                                           \n",
      "                                                                 \n",
      " dropout_8 (Dropout)         (None, 14, 14, 128)       0         \n",
      "                                                                 \n",
      " flatten_4 (Flatten)         (None, 25088)             0         \n",
      "                                                                 \n",
      " dense_8 (Dense)             (None, 150)               3763350   \n",
      "                                                                 \n",
      " activation_9 (Activation)   (None, 150)               0         \n",
      "                                                                 \n",
      " dropout_9 (Dropout)         (None, 150)               0         \n",
      "                                                                 \n",
      " dense_9 (Dense)             (None, 5)                 755       \n",
      "                                                                 \n",
      "=================================================================\n",
      "Total params: 3807545 (14.52 MB)\n",
      "Trainable params: 3807545 (14.52 MB)\n",
      "Non-trainable params: 0 (0.00 Byte)\n",
      "_________________________________________________________________\n"
     ]
    }
   ],
   "source": [
    "from tensorflow.keras.models import Sequential, Model\n",
    "from tensorflow.keras.layers import Conv2D, Activation, MaxPooling2D, Dropout, Flatten, Dense, Attention, Input\n",
    "\n",
    "# Define the CNN model with attention\n",
    "model = Sequential()\n",
    "\n",
    "# Input shape is 100x100 since that's the dimension of each fruit image\n",
    "model.add(Conv2D(filters=16, kernel_size=2, input_shape=(224, 224, 3), padding='same'))\n",
    "model.add(Activation('relu'))\n",
    "model.add(MaxPooling2D(pool_size=2))\n",
    "\n",
    "model.add(Conv2D(filters=32, kernel_size=2, activation='relu', padding='same'))\n",
    "model.add(MaxPooling2D(pool_size=2))\n",
    "\n",
    "model.add(Conv2D(filters=64, kernel_size=2, activation='relu', padding='same'))\n",
    "model.add(MaxPooling2D(pool_size=2))\n",
    "\n",
    "model.add(Conv2D(filters=128, kernel_size=2, activation='relu', padding='same'))\n",
    "model.add(MaxPooling2D(pool_size=2))\n",
    "\n",
    "# Applying attention after the last convolutional layer\n",
    "attention = Attention()([model.layers[-1].output, model.layers[-1].output])\n",
    "\n",
    "# Fully connected layers\n",
    "model.add(Dropout(0.3))\n",
    "model.add(Flatten())\n",
    "model.add(Dense(150))\n",
    "model.add(Activation('relu'))\n",
    "model.add(Dropout(0.4))\n",
    "model.add(Dense(5, activation='softmax'))\n",
    "\n",
    "# Creating the model with attention\n",
    "model_with_attention = Model(inputs=model.input, outputs=model.output)\n",
    "\n",
    "# Displaying the summary of the model\n",
    "model_with_attention.summary()\n"
   ]
  },
  {
   "cell_type": "code",
   "execution_count": 114,
   "metadata": {},
   "outputs": [],
   "source": [
    "from keras.optimizers import SGD, Adam, RMSprop\n",
    "\n",
    "optimizer = Adam()\n",
    "model_with_attention.compile(loss='categorical_crossentropy',\n",
    "              optimizer=optimizer,\n",
    "              metrics=['accuracy'])"
   ]
  },
  {
   "cell_type": "code",
   "execution_count": 115,
   "metadata": {},
   "outputs": [
    {
     "name": "stdout",
     "output_type": "stream",
     "text": [
      "Epoch 1/20\n",
      "10/10 - 23s - loss: 1.4766 - accuracy: 0.4463 - val_loss: 1.2657 - val_accuracy: 0.5254 - 23s/epoch - 2s/step\n",
      "Epoch 2/20\n",
      "10/10 - 13s - loss: 1.2292 - accuracy: 0.5119 - val_loss: 1.0928 - val_accuracy: 0.5254 - 13s/epoch - 1s/step\n",
      "Epoch 3/20\n",
      "10/10 - 13s - loss: 1.0635 - accuracy: 0.5733 - val_loss: 0.8787 - val_accuracy: 0.6102 - 13s/epoch - 1s/step\n",
      "Epoch 4/20\n",
      "10/10 - 12s - loss: 0.9513 - accuracy: 0.6278 - val_loss: 0.9120 - val_accuracy: 0.6102 - 12s/epoch - 1s/step\n",
      "Epoch 5/20\n",
      "10/10 - 13s - loss: 0.8969 - accuracy: 0.6346 - val_loss: 0.8081 - val_accuracy: 0.6780 - 13s/epoch - 1s/step\n",
      "Epoch 6/20\n",
      "10/10 - 13s - loss: 0.8250 - accuracy: 0.6635 - val_loss: 0.8619 - val_accuracy: 0.6356 - 13s/epoch - 1s/step\n",
      "Epoch 7/20\n",
      "10/10 - 13s - loss: 0.8196 - accuracy: 0.6678 - val_loss: 0.7935 - val_accuracy: 0.6864 - 13s/epoch - 1s/step\n",
      "Epoch 8/20\n",
      "10/10 - 12s - loss: 0.7699 - accuracy: 0.6968 - val_loss: 0.7236 - val_accuracy: 0.7119 - 12s/epoch - 1s/step\n",
      "Epoch 9/20\n",
      "10/10 - 12s - loss: 0.7455 - accuracy: 0.7019 - val_loss: 0.6683 - val_accuracy: 0.7542 - 12s/epoch - 1s/step\n",
      "Epoch 10/20\n",
      "10/10 - 12s - loss: 0.6479 - accuracy: 0.7402 - val_loss: 0.6084 - val_accuracy: 0.7797 - 12s/epoch - 1s/step\n",
      "Epoch 11/20\n",
      "10/10 - 11s - loss: 0.6437 - accuracy: 0.7411 - val_loss: 0.6653 - val_accuracy: 0.7627 - 11s/epoch - 1s/step\n",
      "Epoch 12/20\n",
      "10/10 - 11s - loss: 0.5774 - accuracy: 0.7709 - val_loss: 0.6478 - val_accuracy: 0.7288 - 11s/epoch - 1s/step\n",
      "Epoch 13/20\n",
      "10/10 - 11s - loss: 0.5433 - accuracy: 0.7802 - val_loss: 0.6422 - val_accuracy: 0.7712 - 11s/epoch - 1s/step\n",
      "Epoch 14/20\n",
      "10/10 - 11s - loss: 0.5142 - accuracy: 0.7905 - val_loss: 0.5262 - val_accuracy: 0.8136 - 11s/epoch - 1s/step\n",
      "Epoch 15/20\n",
      "10/10 - 11s - loss: 0.4546 - accuracy: 0.8194 - val_loss: 0.5068 - val_accuracy: 0.7797 - 11s/epoch - 1s/step\n",
      "Epoch 16/20\n",
      "10/10 - 11s - loss: 0.3796 - accuracy: 0.8569 - val_loss: 0.4630 - val_accuracy: 0.8305 - 11s/epoch - 1s/step\n",
      "Epoch 17/20\n",
      "10/10 - 11s - loss: 0.3662 - accuracy: 0.8569 - val_loss: 0.4704 - val_accuracy: 0.7881 - 11s/epoch - 1s/step\n",
      "Epoch 18/20\n",
      "10/10 - 11s - loss: 0.3247 - accuracy: 0.8697 - val_loss: 0.4332 - val_accuracy: 0.8220 - 11s/epoch - 1s/step\n",
      "Epoch 19/20\n",
      "10/10 - 11s - loss: 0.3661 - accuracy: 0.8620 - val_loss: 0.4812 - val_accuracy: 0.7797 - 11s/epoch - 1s/step\n",
      "Epoch 20/20\n",
      "10/10 - 11s - loss: 0.3048 - accuracy: 0.8765 - val_loss: 0.4377 - val_accuracy: 0.7881 - 11s/epoch - 1s/step\n"
     ]
    }
   ],
   "source": [
    "history = model_with_attention.fit(X_train,Y_train,\n",
    "        batch_size = 128,\n",
    "        epochs=20,\n",
    "        validation_data=(X_val, Y_val),\n",
    "        verbose=2, shuffle=True)"
   ]
  },
  {
   "cell_type": "code",
   "execution_count": 116,
   "metadata": {},
   "outputs": [
    {
     "name": "stdout",
     "output_type": "stream",
     "text": [
      "6/6 [==============================] - 2s 81ms/step - loss: 0.4890 - accuracy: 0.8192\n",
      "Test accuracy: 0.8192090392112732\n"
     ]
    }
   ],
   "source": [
    "score = model_with_attention.evaluate(X_test, Y_test)\n",
    "print('Test accuracy:', score[1])"
   ]
  },
  {
   "cell_type": "code",
   "execution_count": 117,
   "metadata": {},
   "outputs": [
    {
     "data": {
      "image/png": "[encoded data removed]",
      "text/plain": [
       "<Figure size 640x480 with 1 Axes>"
      ]
     },
     "metadata": {},
     "output_type": "display_data"
    },
    {
     "data": {
      "image/png": "[encoded data removed]",
      "text/plain": [
       "<Figure size 640x480 with 1 Axes>"
      ]
     },
     "metadata": {},
     "output_type": "display_data"
    }
   ],
   "source": [
    "import matplotlib.pyplot as plt\n",
    "plt.plot(history.history['accuracy'],color = 'red',label = 'training_acc')\n",
    "plt.plot(history.history['val_accuracy'],color = 'blue',label = 'test_acc')\n",
    "plt.ylabel('training_accuracy')\n",
    "plt.xlabel('test_accuracy')\n",
    "plt.legend()\n",
    "plt.show()\n",
    "\n",
    "\n",
    "\n",
    "\n",
    "plt.plot(history.history['loss'],color = 'red',label = 'training_loss')\n",
    "plt.plot(history.history['val_loss'],color = 'blue',label = 'test_loss')\n",
    "plt.ylabel('training_loss')\n",
    "plt.xlabel('test_loss')\n",
    "plt.legend()\n",
    "plt.show()\n"
   ]
  },
  {
   "cell_type": "code",
   "execution_count": 118,
   "metadata": {},
   "outputs": [
    {
     "name": "stdout",
     "output_type": "stream",
     "text": [
      "6/6 [==============================] - 9s 76ms/step\n"
     ]
    },
    {
     "data": {
      "image/png": "[encoded data removed]",
      "text/plain": [
       "<Figure size 1000x800 with 2 Axes>"
      ]
     },
     "metadata": {},
     "output_type": "display_data"
    },
    {
     "name": "stdout",
     "output_type": "stream",
     "text": [
      "6/6 [==============================] - 2s 77ms/step - loss: 0.4890 - accuracy: 0.8192\n",
      "Test accuracy is 0.8192090392112732 and test loss is 0.4889593720436096\n"
     ]
    }
   ],
   "source": [
    "from sklearn.metrics import confusion_matrix, classification_report\n",
    "import seaborn as sns\n",
    "\n",
    "\n",
    "y_pred = model_with_attention.predict(X_test)\n",
    "y_pred_classes = np.argmax(y_pred, axis=1)\n",
    "\n",
    "confusion_mtx = confusion_matrix(np.argmax(Y_test, axis=1), y_pred_classes)\n",
    "\n",
    "plt.figure(figsize=(10, 8))\n",
    "sns.heatmap(confusion_mtx, annot=True, fmt='d')\n",
    "plt.xlabel('Predicted')\n",
    "plt.ylabel('True')\n",
    "plt.show()\n",
    "\n",
    "test_loss, test_acc = model_with_attention.evaluate(X_test, Y_test)\n",
    "print(f\"Test accuracy is {test_acc} and test loss is {test_loss}\")\n"
   ]
  },
  {
   "cell_type": "code",
   "execution_count": 119,
   "metadata": {},
   "outputs": [
    {
     "name": "stdout",
     "output_type": "stream",
     "text": [
      "6/6 [==============================] - 3s 78ms/step\n",
      "Confusion Matrix:\n",
      "[[ 9 12  0  1  0]\n",
      " [ 5 79  1  0  4]\n",
      " [ 0  1 13  2  0]\n",
      " [ 0  0  3 17  0]\n",
      " [ 0  3  0  0 27]]\n",
      "\n",
      "Classification Report:\n",
      "              precision    recall  f1-score   support\n",
      "\n",
      "           0       0.64      0.41      0.50        22\n",
      "           1       0.83      0.89      0.86        89\n",
      "           2       0.76      0.81      0.79        16\n",
      "           3       0.85      0.85      0.85        20\n",
      "           4       0.87      0.90      0.89        30\n",
      "\n",
      "    accuracy                           0.82       177\n",
      "   macro avg       0.79      0.77      0.78       177\n",
      "weighted avg       0.81      0.82      0.81       177\n",
      "\n"
     ]
    }
   ],
   "source": [
    "from sklearn.metrics import classification_report, confusion_matrix\n",
    "\n",
    "# Predictions on test set\n",
    "Y_pred = model_with_attention.predict(X_test)\n",
    "# Convert predictions to one-hot encoded labels\n",
    "Y_pred_labels = np.argmax(Y_pred, axis=1)\n",
    "Y_true_labels = np.argmax(Y_test, axis=1)\n",
    "\n",
    "# Confusion Matrix\n",
    "conf_matrix = confusion_matrix(Y_true_labels, Y_pred_labels)\n",
    "\n",
    "# Classification Report\n",
    "class_report = classification_report(Y_true_labels, Y_pred_labels)\n",
    "\n",
    "print(\"Confusion Matrix:\")\n",
    "print(conf_matrix)\n",
    "\n",
    "print(\"\\nClassification Report:\")\n",
    "print(class_report)\n"
   ]
  },
  {
   "cell_type": "code",
   "execution_count": null,
   "metadata": {},
   "outputs": [],
   "source": []
  }
 ],
 "metadata": {
  "kernelspec": {
   "display_name": "base",
   "language": "python",
   "name": "python3"
  },
  "language_info": {
   "codemirror_mode": {
    "name": "ipython",
    "version": 3
   },
   "file_extension": ".py",
   "mimetype": "text/x-python",
   "name": "python",
   "nbconvert_exporter": "python",
   "pygments_lexer": "ipython3",
   "version": "3.9.13"
  }
 },
 "nbformat": 4,
 "nbformat_minor": 2
}
